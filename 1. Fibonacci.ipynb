{
 "cells": [
  {
   "cell_type": "code",
   "execution_count": 5,
   "metadata": {},
   "outputs": [
    {
     "name": "stdout",
     "output_type": "stream",
     "text": [
      "40\n",
      "102334155\n"
     ]
    }
   ],
   "source": [
    "def fib(n):\n",
    "#     fib_arr = numpy.empty(n, dtype=object)\n",
    "#     fib_arr[0] = 0\n",
    "#     fib_arr[1] = 1\n",
    "#     for i in fib_arr... — not the optimal decision  \n",
    "#     because you have to import the whole numpy library just to get the array function\n",
    "\n",
    "    fib_list = []\n",
    "    fib_list.append(0)\n",
    "    fib_list.append(1)\n",
    "    for i in range(2,n+1):\n",
    "        i = int(fib_list[i-1] + fib_list[i-2])\n",
    "        fib_list.append(i)\n",
    "    return fib_list[n]\n",
    "\n",
    "def main():\n",
    "    n = int(input())\n",
    "    print(fib(n))\n",
    "\n",
    "\n",
    "if __name__ == \"__main__\":\n",
    "    main()"
   ]
  },
  {
   "cell_type": "code",
   "execution_count": null,
   "metadata": {},
   "outputs": [],
   "source": []
  }
 ],
 "metadata": {
  "kernelspec": {
   "display_name": "Python 3",
   "language": "python",
   "name": "python3"
  },
  "language_info": {
   "codemirror_mode": {
    "name": "ipython",
    "version": 3
   },
   "file_extension": ".py",
   "mimetype": "text/x-python",
   "name": "python",
   "nbconvert_exporter": "python",
   "pygments_lexer": "ipython3",
   "version": "3.7.4"
  }
 },
 "nbformat": 4,
 "nbformat_minor": 5
}
