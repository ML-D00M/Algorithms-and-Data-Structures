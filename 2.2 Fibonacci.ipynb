{
 "cells": [
  {
   "cell_type": "markdown",
   "metadata": {},
   "source": [
    "### Task 1"
   ]
  },
  {
   "cell_type": "code",
   "execution_count": 5,
   "metadata": {},
   "outputs": [
    {
     "name": "stdout",
     "output_type": "stream",
     "text": [
      "40\n",
      "102334155\n"
     ]
    }
   ],
   "source": [
    "def fib(n):\n",
    "#     fib_arr = numpy.empty(n, dtype=object)\n",
    "#     fib_arr[0] = 0\n",
    "#     fib_arr[1] = 1\n",
    "#     for i in fib_arr... — not the optimal decision  \n",
    "#     because you have to import the whole numpy library just to get the array function\n",
    "\n",
    "    fib_list = []\n",
    "    fib_list.append(0)\n",
    "    fib_list.append(1)\n",
    "    for i in range(2,n+1):\n",
    "        i = int(fib_list[i-1] + fib_list[i-2])\n",
    "        fib_list.append(i)\n",
    "    return fib_list[n]\n",
    "\n",
    "def main():\n",
    "    n = int(input())\n",
    "    print(fib(n))\n",
    "\n",
    "\n",
    "if __name__ == \"__main__\":\n",
    "    main()"
   ]
  },
  {
   "cell_type": "markdown",
   "metadata": {},
   "source": [
    "### Task 2"
   ]
  },
  {
   "cell_type": "code",
   "execution_count": 3,
   "metadata": {},
   "outputs": [
    {
     "name": "stdout",
     "output_type": "stream",
     "text": [
      "841645\n",
      "5\n"
     ]
    }
   ],
   "source": [
    "def fib_digit(n):\n",
    "    fib_ldigits = []\n",
    "    fib_ldigits.append(0)\n",
    "    fib_ldigits.append(1)\n",
    "    for i in range(2,n+1):\n",
    "        i = int(int(fib_ldigits[i-1])%10 + int(fib_ldigits[i-2])%10)%10\n",
    "        fib_ldigits.append(i)\n",
    "    return fib_ldigits[n]\n",
    "    \n",
    "    # ldigit = num%10 — last digit of an integer\n",
    "\n",
    "\n",
    "def main():\n",
    "    n = int(input())\n",
    "    print(fib_digit(n))\n",
    "\n",
    "\n",
    "if __name__ == \"__main__\":\n",
    "    main()"
   ]
  },
  {
   "cell_type": "markdown",
   "metadata": {},
   "source": [
    "### Task 3"
   ]
  },
  {
   "cell_type": "code",
   "execution_count": 4,
   "metadata": {},
   "outputs": [
    {
     "name": "stdout",
     "output_type": "stream",
     "text": [
      "10 2\n",
      "1\n"
     ]
    }
   ],
   "source": [
    "def fib_mod(n, m):\n",
    "    \n",
    "    # In this algorithm we use so called Pisano period (actually it was just a pseudonym of Fibonacci himself).\n",
    "    # It is the period with which the sequence of Fibonacci numbers taken modulo m repeats. \n",
    "    # So you don't need to perform all the computations for Fibonacci numbers, especially for huge n.\n",
    "    # It's enough to know Pisano period, which is indicated by 0 following 1.\n",
    "    # see https://www.youtube.com/watch?v=Nu-lW-Ifyec for explanation\n",
    "    \n",
    "    if n <= 1:\n",
    "        return n\n",
    "\n",
    "    arr = [0, 1]\n",
    "    previousMod = 0\n",
    "    currentMod = 1\n",
    "\n",
    "    for i in range(n - 1):\n",
    "        tempMod = previousMod\n",
    "        previousMod = currentMod % m\n",
    "        currentMod = (tempMod + currentMod) % m\n",
    "        arr.append(currentMod)\n",
    "        if currentMod == 1 and previousMod == 0:\n",
    "            index = (n % (i + 1))\n",
    "            return arr[index]\n",
    "\n",
    "    return currentMod\n",
    "\n",
    "\n",
    "def main():\n",
    "    n, m = map(int, input().split())\n",
    "    print(fib_mod(n, m))\n",
    "\n",
    "\n",
    "if __name__ == \"__main__\":\n",
    "    main()"
   ]
  },
  {
   "cell_type": "code",
   "execution_count": null,
   "metadata": {},
   "outputs": [],
   "source": []
  }
 ],
 "metadata": {
  "kernelspec": {
   "display_name": "Python 3",
   "language": "python",
   "name": "python3"
  },
  "language_info": {
   "codemirror_mode": {
    "name": "ipython",
    "version": 3
   },
   "file_extension": ".py",
   "mimetype": "text/x-python",
   "name": "python",
   "nbconvert_exporter": "python",
   "pygments_lexer": "ipython3",
   "version": "3.7.4"
  }
 },
 "nbformat": 4,
 "nbformat_minor": 5
}
